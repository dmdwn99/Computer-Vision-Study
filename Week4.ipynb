{
  "nbformat": 4,
  "nbformat_minor": 0,
  "metadata": {
    "colab": {
      "name": "Week4.ipynb",
      "provenance": [],
      "authorship_tag": "ABX9TyMRyWIBcXBO/j+O5TsO7Pju",
      "include_colab_link": true
    },
    "kernelspec": {
      "name": "python3",
      "display_name": "Python 3"
    },
    "language_info": {
      "name": "python"
    }
  },
  "cells": [
    {
      "cell_type": "markdown",
      "metadata": {
        "id": "view-in-github",
        "colab_type": "text"
      },
      "source": [
        "<a href=\"https://colab.research.google.com/github/dmdwn99/Computer-Vision-Study/blob/main/Week4.ipynb\" target=\"_parent\"><img src=\"https://colab.research.google.com/assets/colab-badge.svg\" alt=\"Open In Colab\"/></a>"
      ]
    },
    {
      "cell_type": "markdown",
      "source": [
        "# 컴퓨터 비전\n",
        "정의: 사람의 시각과 관련한 시스템 구조를 모방하여 컴퓨터가 물체나 상황을 식별하고 해석할 수 있도록 하는 연구 분야"
      ],
      "metadata": {
        "id": "cORQYricMbmY"
      }
    },
    {
      "cell_type": "markdown",
      "source": [
        "### 대표 기술\n",
        "- 객체 분류: 이미지 속 객체를 인지하여 그 클래스를 분류해내는 기술, 가장 기초적인 분야\n",
        "- 객제 탐지 및 위치 식별: 이미지 또는 비디오 영상에서 객체를 식별해내는 기술\n",
        "- 객체 분할: 이미지 및 비디오 영상 프레임 내에서 객체를 따로 분할하여 의미 있는 부분만 분석할 수 있게 하는 기술\n",
        "- 이미지 캡셔닝: 이미지의 상황을 텍스트로 설명할 수 있는 기술\n",
        "- 객체 추적: 비디오 영상 내의 객체의 위치 변화를 추적하는 기술로 포인트 추적, 커널 추적, 실루엣 추적 등\n",
        "- 행동 분류: 비디오 영상 내의 객체의 행동을 인식하여 분류하는 기술"
      ],
      "metadata": {
        "id": "bogDfR2zM0--"
      }
    },
    {
      "cell_type": "markdown",
      "source": [
        "### 컴퓨터 비전도 결국 데이터가 핵심이다\n",
        "\n",
        "과거에 비해 컴퓨터 비전은 딥러닝과 뉴럴 네트워크의 발전으로 활용영역이 확장하고 있다. 실생활에서 다양한 분야에서 광범위하게 사용되고 있기도 하지만, 컴퓨터 비전을 다루는 것은 여전히 어렵다. 컴퓨터 비전 중 하나인 자율주행에 대표주자 테슬라의 AI 디렉터는 컴퓨터 비전을 위한 라벨링 워크플로우에 대한 명쾌하 답을 찾지 못했다고 하면서 어려움을 토로했다. \n",
        "\n",
        "라벨링 워크플로우는 데이터에 대한 라벨링 유형 기준 마련, 라벨링 작업 결과물에 대한 품질관리 및 피드백 수집 과정 구축, 라벨러 훈련과 퍼포먼스 측정, 라벨링 과정 중 발생 하는 다양한 이슈 관리, 라벨링을 통한 구축된 데이터셋 버전관리 등을 포함한다. 결국 좋은 모델을 만드는 것도 중요하지만 이미지나 영상 데이터의 라벨링 작업 또한 매우 중요하다.\n"
      ],
      "metadata": {
        "id": "FG7CIXTxr_qH"
      }
    },
    {
      "cell_type": "markdown",
      "source": [
        "참고 사이트: https://www.superb-ai.com/ko-blog/everything-about-computer-vision-data"
      ],
      "metadata": {
        "id": "Z3uvhPObuZFA"
      }
    },
    {
      "cell_type": "code",
      "source": [
        ""
      ],
      "metadata": {
        "id": "I5K-b2knuWA2"
      },
      "execution_count": null,
      "outputs": []
    }
  ]
}