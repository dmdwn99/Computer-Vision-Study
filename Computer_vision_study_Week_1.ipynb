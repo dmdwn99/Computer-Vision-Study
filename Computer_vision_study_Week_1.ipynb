{
  "nbformat": 4,
  "nbformat_minor": 0,
  "metadata": {
    "colab": {
      "name": "Computer_vision_study_Week 1",
      "provenance": [],
      "toc_visible": true,
      "authorship_tag": "ABX9TyOjH+/J5s3ms2irT/zAH+mf",
      "include_colab_link": true
    },
    "kernelspec": {
      "name": "python3",
      "display_name": "Python 3"
    },
    "language_info": {
      "name": "python"
    }
  },
  "cells": [
    {
      "cell_type": "markdown",
      "metadata": {
        "id": "view-in-github",
        "colab_type": "text"
      },
      "source": [
        "<a href=\"https://colab.research.google.com/github/dmdwn99/Computer-Vision-Study/blob/main/Computer_vision_study_Week_1.ipynb\" target=\"_parent\"><img src=\"https://colab.research.google.com/assets/colab-badge.svg\" alt=\"Open In Colab\"/></a>"
      ]
    },
    {
      "cell_type": "markdown",
      "source": [
        "# 1. Tensorflow 2.0"
      ],
      "metadata": {
        "id": "sjfuJ6KtN6BX"
      }
    },
    {
      "cell_type": "code",
      "execution_count": 11,
      "metadata": {
        "colab": {
          "base_uri": "https://localhost:8080/"
        },
        "id": "PKOvX9jtLprD",
        "outputId": "ef7c90e9-ee06-4311-9481-92992068a532"
      },
      "outputs": [
        {
          "output_type": "stream",
          "name": "stdout",
          "text": [
            "2.8.0\n"
          ]
        }
      ],
      "source": [
        "# 텐서플로 버전 2.x 선택하기\n",
        "try:\n",
        "  %tensorflow_version 2.x\n",
        "except Exception:\n",
        "  pass\n",
        "import tensorflow as tf\n",
        "print(tf.__version__)"
      ]
    },
    {
      "cell_type": "markdown",
      "source": [
        "# 2. Tensorflow 기초"
      ],
      "metadata": {
        "id": "AR5vo_hxT7Uz"
      }
    },
    {
      "cell_type": "markdown",
      "source": [
        "랜덤은 신경망에서 필수 기능\n",
        "\n",
        "신경망: 많은 숫자로 구성된 행렬\n",
        "\n",
        "초기화: 신경망의 초기값을 지정해주는 것\n",
        "\n",
        "Xavier 초기화, He 초기화가 자주 사용됨"
      ],
      "metadata": {
        "id": "8JWS7mreU3rA"
      }
    },
    {
      "cell_type": "code",
      "source": [
        "# 난수 생성\n",
        "rand = tf.random.uniform([1],0,1) # 균일 분포 난수 생성\n",
        "# 균일 분포란 최솟값, 최댓값 사이의 모든 수가 나올 확률이 동일한 분포에서 수를 뽑는 것\n",
        "print(rand)"
      ],
      "metadata": {
        "colab": {
          "base_uri": "https://localhost:8080/"
        },
        "id": "8pvuEs5WULsm",
        "outputId": "58026ba8-1f07-4c65-ae12-e0e71eebe506"
      },
      "execution_count": 21,
      "outputs": [
        {
          "output_type": "stream",
          "name": "stdout",
          "text": [
            "tf.Tensor([0.40707147], shape=(1,), dtype=float32)\n"
          ]
        }
      ]
    },
    {
      "cell_type": "code",
      "source": [
        "rand = tf.random.uniform([4],0,1)\n",
        "print(rand)"
      ],
      "metadata": {
        "colab": {
          "base_uri": "https://localhost:8080/"
        },
        "id": "yyoJBDXKVC6p",
        "outputId": "5b75818b-0a9f-4c7c-96d0-b0d4cb21ee20"
      },
      "execution_count": 22,
      "outputs": [
        {
          "output_type": "stream",
          "name": "stdout",
          "text": [
            "tf.Tensor([0.5748664  0.5799935  0.31368542 0.5109875 ], shape=(4,), dtype=float32)\n"
          ]
        }
      ]
    },
    {
      "cell_type": "code",
      "source": [
        "# 정규분포\n",
        "rand = tf.random.normal([4],0,1)\n",
        "print(rand)"
      ],
      "metadata": {
        "colab": {
          "base_uri": "https://localhost:8080/"
        },
        "id": "QDaHXbDzWKur",
        "outputId": "8d23166f-13ab-4f30-f2b0-c99f46c501d3"
      },
      "execution_count": 23,
      "outputs": [
        {
          "output_type": "stream",
          "name": "stdout",
          "text": [
            "tf.Tensor([-0.11001303  0.23434742 -1.665555   -0.5492535 ], shape=(4,), dtype=float32)\n"
          ]
        }
      ]
    },
    {
      "cell_type": "code",
      "source": [
        "# 뉴런 만들기\n",
        "# 신경망: 뉴련이 여러개 모여 레이어를 구성한 후 레이어를 다시 모아 구성한 형태\n",
        "# 뉴련은 입력, 가중치, 활성화함수, 출력으로 구성\n",
        "# 활성화 함수: 시그모이드, ReLU가 자주 사용됨\n",
        "# 은닉층: 신경망에서 입력층과 출력층을 제외한 나머지 부분을 은닉층. 가중치와 활성화 함수로 구성\n",
        "# 초창기에는 시그모이드가 주로 쓰였지만 은닉층을 다수 사용하는 딥러닝 시대가 되면서 ReLU가 더 많이 쓰임\n"
      ],
      "metadata": {
        "id": "tUYX9q3xYwy0"
      },
      "execution_count": null,
      "outputs": []
    },
    {
      "cell_type": "code",
      "source": [
        "import math\n",
        "def sigmoid(x):\n",
        "  return 1/ (1+math.exp(-x))"
      ],
      "metadata": {
        "id": "4MozEsUVcMJY"
      },
      "execution_count": 24,
      "outputs": []
    },
    {
      "cell_type": "code",
      "source": [
        "x = 1\n",
        "y = 0\n",
        "w = tf.random.normal([1],0,1)\n",
        "output = sigmoid(x * w)\n",
        "print(output)"
      ],
      "metadata": {
        "colab": {
          "base_uri": "https://localhost:8080/"
        },
        "id": "pDAUE4EEcamP",
        "outputId": "8b312cad-cbc1-48cf-fb21-c1abe4a12638"
      },
      "execution_count": 34,
      "outputs": [
        {
          "output_type": "stream",
          "name": "stdout",
          "text": [
            "0.5540523885718102\n"
          ]
        }
      ]
    },
    {
      "cell_type": "code",
      "source": [
        "for i in range(1000):\n",
        "  output = sigmoid(x * w)\n",
        "  error = y - output\n",
        "  w = w + x * 0.1 * error\n",
        "\n",
        "  if i % 100 == 99:\n",
        "    print(i, error, output)"
      ],
      "metadata": {
        "colab": {
          "base_uri": "https://localhost:8080/"
        },
        "id": "xbxuhyNkcpmC",
        "outputId": "06226aa8-1f71-4c86-9256-34dfe2453bec"
      },
      "execution_count": 36,
      "outputs": [
        {
          "output_type": "stream",
          "name": "stdout",
          "text": [
            "99 -0.10595287173158083 0.10595287173158083\n",
            "199 -0.05339021831160849 0.05339021831160849\n",
            "299 -0.035312689739303994 0.035312689739303994\n",
            "399 -0.026295676417921098 0.026295676417921098\n",
            "499 -0.020917793400284882 0.020917793400284882\n",
            "599 -0.017353541891795166 0.017353541891795166\n",
            "699 -0.014820776606474755 0.014820776606474755\n",
            "799 -0.012929713883323212 0.012929713883323212\n",
            "899 -0.01146451609226613 0.01146451609226613\n",
            "999 -0.010296291288623957 0.010296291288623957\n"
          ]
        }
      ]
    },
    {
      "cell_type": "code",
      "source": [
        "# 입력 0, 출력 1 뉴런\n",
        "x = 0\n",
        "y = 1\n",
        "w = tf.random.normal([1],0,1)\n",
        "for i in range(1000):\n",
        "  output = sigmoid(x * w)\n",
        "  error = y - output\n",
        "  w = w * x + 0.1 * error\n",
        "\n",
        "  if i % 100 == 99:\n",
        "    print(i, error, output)"
      ],
      "metadata": {
        "colab": {
          "base_uri": "https://localhost:8080/"
        },
        "id": "YWmPFC9yeTeM",
        "outputId": "1d1e74d3-4937-4fcc-e294-133fad9c6cae"
      },
      "execution_count": 37,
      "outputs": [
        {
          "output_type": "stream",
          "name": "stdout",
          "text": [
            "99 0.5 0.5\n",
            "199 0.5 0.5\n",
            "299 0.5 0.5\n",
            "399 0.5 0.5\n",
            "499 0.5 0.5\n",
            "599 0.5 0.5\n",
            "699 0.5 0.5\n",
            "799 0.5 0.5\n",
            "899 0.5 0.5\n",
            "999 0.5 0.5\n"
          ]
        }
      ]
    },
    {
      "cell_type": "code",
      "source": [
        "# 편향(bias) 추가\n",
        "x = 0\n",
        "y = 1\n",
        "w = tf.random.normal([1],0,1)\n",
        "b = tf.random.normal([1],0,1)\n",
        "\n",
        "for i in range(1000):\n",
        "  output = sigmoid(x * w + 1 * b)\n",
        "  error = y - output\n",
        "  w = w + x * 0.1 * error\n",
        "  b = b + 1 * 0.1 * error\n",
        "\n",
        "  if i % 100 == 99:\n",
        "    print(i, error, output)"
      ],
      "metadata": {
        "colab": {
          "base_uri": "https://localhost:8080/"
        },
        "id": "M_3nKYH7e82m",
        "outputId": "68ec3003-7769-465a-d9a0-fc148da48cab"
      },
      "execution_count": 40,
      "outputs": [
        {
          "output_type": "stream",
          "name": "stdout",
          "text": [
            "99 0.11233633850084301 0.887663661499157\n",
            "199 0.055060115537330145 0.9449398844626699\n",
            "299 0.03604941135075379 0.9639505886492462\n",
            "399 0.0267057996110871 0.9732942003889129\n",
            "499 0.021177891327152754 0.9788221086728472\n",
            "599 0.017532803435301725 0.9824671965646983\n",
            "699 0.014951670960649865 0.9850483290393501\n",
            "799 0.013029396832063056 0.9869706031679369\n",
            "899 0.011542943987083665 0.9884570560129163\n",
            "999 0.010359573544649447 0.9896404264553506\n"
          ]
        }
      ]
    },
    {
      "cell_type": "markdown",
      "source": [
        "# 3. 신경망 네트워크: AND\n",
        "\n",
        "\n"
      ],
      "metadata": {
        "id": "9DbCA8Zff79d"
      }
    },
    {
      "cell_type": "code",
      "source": [
        "# AND 연산 수행 뉴런\n",
        "import numpy as np\n",
        "x = np.array([[1,1],[1,0],[0,1],[0,0]])\n",
        "y = np.array([[1],[0],[0],[0]])\n",
        "w = tf.random.normal([2],0,1)\n",
        "b = tf.random.normal([1],0,1)\n",
        "b_x = 1\n",
        "\n",
        "for i in range(2000):\n",
        "  error_sum = 0\n",
        "  for j in range(4):\n",
        "    output = sigmoid(np.sum(x[j]*w)+b_x*b)\n",
        "    error = y[j][0] - output\n",
        "    w = w * x[j] * 0.1 * error\n",
        "    b = b * b_x * 0.1 * error\n",
        "    error_sum += error_sum\n",
        "  if i % 200 == 199:\n",
        "    print(i, error_sum)"
      ],
      "metadata": {
        "colab": {
          "base_uri": "https://localhost:8080/"
        },
        "id": "qLYEjqqFfdGS",
        "outputId": "3cef353f-ff08-4763-dfd3-188e198917c7"
      },
      "execution_count": 42,
      "outputs": [
        {
          "output_type": "stream",
          "name": "stdout",
          "text": [
            "199 0\n",
            "399 0\n",
            "599 0\n",
            "799 0\n",
            "999 0\n",
            "1199 0\n",
            "1399 0\n",
            "1599 0\n",
            "1799 0\n",
            "1999 0\n"
          ]
        }
      ]
    },
    {
      "cell_type": "code",
      "source": [
        ""
      ],
      "metadata": {
        "id": "ECHWL6Iyhdq5"
      },
      "execution_count": null,
      "outputs": []
    }
  ]
}