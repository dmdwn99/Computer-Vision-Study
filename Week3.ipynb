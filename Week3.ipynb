{
  "nbformat": 4,
  "nbformat_minor": 0,
  "metadata": {
    "colab": {
      "name": "Week3.ipynb",
      "provenance": [],
      "authorship_tag": "ABX9TyMNWmLdyTUWqw2Ulmttr/jO",
      "include_colab_link": true
    },
    "kernelspec": {
      "name": "python3",
      "display_name": "Python 3"
    },
    "language_info": {
      "name": "python"
    }
  },
  "cells": [
    {
      "cell_type": "markdown",
      "metadata": {
        "id": "view-in-github",
        "colab_type": "text"
      },
      "source": [
        "<a href=\"https://colab.research.google.com/github/dmdwn99/Computer-Vision-Study/blob/main/Week3.ipynb\" target=\"_parent\"><img src=\"https://colab.research.google.com/assets/colab-badge.svg\" alt=\"Open In Colab\"/></a>"
      ]
    },
    {
      "cell_type": "markdown",
      "source": [
        "# 5. 분류"
      ],
      "metadata": {
        "id": "EFvBDNwDKLLH"
      }
    },
    {
      "cell_type": "markdown",
      "source": [
        "분류는 데이터가 어느 범주에 해당하는지 판단하는 데이터 분석 방법이다. "
      ],
      "metadata": {
        "id": "4nltLoI_KQGG"
      }
    },
    {
      "cell_type": "markdown",
      "source": [
        "# 5.1 이항 분류"
      ],
      "metadata": {
        "id": "p3mvlKxnKfln"
      }
    },
    {
      "cell_type": "markdown",
      "source": [
        "이항 분류는 범주가 두 개인 데이터를 분류하는 것이다. 이항 분류에 대한 이해를 위해 와인 데이터셋을 사용했다. pandas를 사용해 데이터 프레임으로 데이터셋을 불러왔다. "
      ],
      "metadata": {
        "id": "SxaVom5VKix4"
      }
    },
    {
      "cell_type": "code",
      "source": [
        "import pandas as pd\n",
        "red = pd.read_csv('http://archive.ics.uci.edu/ml/machine-learning-databases/wine-quality/winequality-red.csv',sep=';')\n",
        "white = pd.read_csv('http://archive.ics.uci.edu/ml/machine-learning-databases/wine-quality/winequality-white.csv',sep=';')\n",
        "print(red.head())\n",
        "print(white.head())"
      ],
      "metadata": {
        "colab": {
          "base_uri": "https://localhost:8080/"
        },
        "id": "S694OfGYKef3",
        "outputId": "d4d617fd-3654-4698-cce4-437053d051e5"
      },
      "execution_count": 56,
      "outputs": [
        {
          "output_type": "stream",
          "name": "stdout",
          "text": [
            "   fixed acidity  volatile acidity  citric acid  residual sugar  chlorides  \\\n",
            "0            7.4              0.70         0.00             1.9      0.076   \n",
            "1            7.8              0.88         0.00             2.6      0.098   \n",
            "2            7.8              0.76         0.04             2.3      0.092   \n",
            "3           11.2              0.28         0.56             1.9      0.075   \n",
            "4            7.4              0.70         0.00             1.9      0.076   \n",
            "\n",
            "   free sulfur dioxide  total sulfur dioxide  density    pH  sulphates  \\\n",
            "0                 11.0                  34.0   0.9978  3.51       0.56   \n",
            "1                 25.0                  67.0   0.9968  3.20       0.68   \n",
            "2                 15.0                  54.0   0.9970  3.26       0.65   \n",
            "3                 17.0                  60.0   0.9980  3.16       0.58   \n",
            "4                 11.0                  34.0   0.9978  3.51       0.56   \n",
            "\n",
            "   alcohol  quality  \n",
            "0      9.4        5  \n",
            "1      9.8        5  \n",
            "2      9.8        5  \n",
            "3      9.8        6  \n",
            "4      9.4        5  \n",
            "   fixed acidity  volatile acidity  citric acid  residual sugar  chlorides  \\\n",
            "0            7.0              0.27         0.36            20.7      0.045   \n",
            "1            6.3              0.30         0.34             1.6      0.049   \n",
            "2            8.1              0.28         0.40             6.9      0.050   \n",
            "3            7.2              0.23         0.32             8.5      0.058   \n",
            "4            7.2              0.23         0.32             8.5      0.058   \n",
            "\n",
            "   free sulfur dioxide  total sulfur dioxide  density    pH  sulphates  \\\n",
            "0                 45.0                 170.0   1.0010  3.00       0.45   \n",
            "1                 14.0                 132.0   0.9940  3.30       0.49   \n",
            "2                 30.0                  97.0   0.9951  3.26       0.44   \n",
            "3                 47.0                 186.0   0.9956  3.19       0.40   \n",
            "4                 47.0                 186.0   0.9956  3.19       0.40   \n",
            "\n",
            "   alcohol  quality  \n",
            "0      8.8        6  \n",
            "1      9.5        6  \n",
            "2     10.1        6  \n",
            "3      9.9        6  \n",
            "4      9.9        6  \n"
          ]
        }
      ]
    },
    {
      "cell_type": "markdown",
      "source": [
        "와인의 종류를 분류하기 위해 와인이 레드 와인인지, 화이트 와인인지 표시해주는 column을 추가했고, pandas의 concat 함수를 이용해 레드 와인과 화이트 와인 데이터를 합쳤다. concat의 파라미터 중 axis 설정 값에 따라 row, column 중 하나를 기준으로 하여 데이터를 합친다. describe 함수는 통계적 특성을 볼 수 있는 pandas의 함수이다."
      ],
      "metadata": {
        "id": "TPuPhVl-kksP"
      }
    },
    {
      "cell_type": "code",
      "execution_count": 57,
      "metadata": {
        "colab": {
          "base_uri": "https://localhost:8080/"
        },
        "id": "p4zfuwHuKBv4",
        "outputId": "7e7acfef-9d57-4658-89e7-2032cb7b8ee9"
      },
      "outputs": [
        {
          "output_type": "stream",
          "name": "stdout",
          "text": [
            "   fixed acidity  volatile acidity  citric acid  residual sugar  chlorides  \\\n",
            "0            7.4              0.70          0.0             1.9      0.076   \n",
            "1            7.8              0.88          0.0             2.6      0.098   \n",
            "\n",
            "   free sulfur dioxide  total sulfur dioxide  density    pH  sulphates  \\\n",
            "0                 11.0                  34.0   0.9978  3.51       0.56   \n",
            "1                 25.0                  67.0   0.9968  3.20       0.68   \n",
            "\n",
            "   alcohol  quality  type  \n",
            "0      9.4        5     0  \n",
            "1      9.8        5     0  \n",
            "   fixed acidity  volatile acidity  citric acid  residual sugar  chlorides  \\\n",
            "0            7.0              0.27         0.36            20.7      0.045   \n",
            "1            6.3              0.30         0.34             1.6      0.049   \n",
            "\n",
            "   free sulfur dioxide  total sulfur dioxide  density   pH  sulphates  \\\n",
            "0                 45.0                 170.0    1.001  3.0       0.45   \n",
            "1                 14.0                 132.0    0.994  3.3       0.49   \n",
            "\n",
            "   alcohol  quality  type  \n",
            "0      8.8        6     1  \n",
            "1      9.5        6     1  \n",
            "       fixed acidity  volatile acidity  citric acid  residual sugar  \\\n",
            "count    6497.000000       6497.000000  6497.000000     6497.000000   \n",
            "mean        7.215307          0.339666     0.318633        5.443235   \n",
            "std         1.296434          0.164636     0.145318        4.757804   \n",
            "min         3.800000          0.080000     0.000000        0.600000   \n",
            "25%         6.400000          0.230000     0.250000        1.800000   \n",
            "50%         7.000000          0.290000     0.310000        3.000000   \n",
            "75%         7.700000          0.400000     0.390000        8.100000   \n",
            "max        15.900000          1.580000     1.660000       65.800000   \n",
            "\n",
            "         chlorides  free sulfur dioxide  total sulfur dioxide      density  \\\n",
            "count  6497.000000          6497.000000           6497.000000  6497.000000   \n",
            "mean      0.056034            30.525319            115.744574     0.994697   \n",
            "std       0.035034            17.749400             56.521855     0.002999   \n",
            "min       0.009000             1.000000              6.000000     0.987110   \n",
            "25%       0.038000            17.000000             77.000000     0.992340   \n",
            "50%       0.047000            29.000000            118.000000     0.994890   \n",
            "75%       0.065000            41.000000            156.000000     0.996990   \n",
            "max       0.611000           289.000000            440.000000     1.038980   \n",
            "\n",
            "                pH    sulphates      alcohol      quality         type  \n",
            "count  6497.000000  6497.000000  6497.000000  6497.000000  6497.000000  \n",
            "mean      3.218501     0.531268    10.491801     5.818378     0.753886  \n",
            "std       0.160787     0.148806     1.192712     0.873255     0.430779  \n",
            "min       2.720000     0.220000     8.000000     3.000000     0.000000  \n",
            "25%       3.110000     0.430000     9.500000     5.000000     1.000000  \n",
            "50%       3.210000     0.510000    10.300000     6.000000     1.000000  \n",
            "75%       3.320000     0.600000    11.300000     6.000000     1.000000  \n",
            "max       4.010000     2.000000    14.900000     9.000000     1.000000  \n"
          ]
        }
      ],
      "source": [
        "red['type'] = 0\n",
        "white['type'] = 1\n",
        "print(red.head(2))\n",
        "print(white.head(2))\n",
        "\n",
        "wine = pd.concat([red,white],axis=0)\n",
        "print(wine.describe())"
      ]
    },
    {
      "cell_type": "markdown",
      "source": [
        "type column의 평균을 보면 약 0.75의 값을 보인다. 이는 레드 와인보다 화이트와인이 더 많다는 것을 알 수 있다. 책에서는 matplotlib를 사용해 type 데이터의 분포를 확인하였는데 pandas의 hist 함수도 동일한 결과를 볼 수 있다. 또한 정확한 수치를 알아보기 위해 value_count 함수를 사용해 각 값의 수를 확인했다. "
      ],
      "metadata": {
        "id": "PB1QvK0plmYm"
      }
    },
    {
      "cell_type": "code",
      "source": [
        "wine['type'].hist()\n",
        "print(wine['type'].value_counts())"
      ],
      "metadata": {
        "colab": {
          "base_uri": "https://localhost:8080/",
          "height": 320
        },
        "id": "TCR_egvilB9u",
        "outputId": "fde45e56-5ac6-41f7-8f0c-0279927c2828"
      },
      "execution_count": 24,
      "outputs": [
        {
          "output_type": "stream",
          "name": "stdout",
          "text": [
            "1    4898\n",
            "0    1599\n",
            "Name: type, dtype: int64\n"
          ]
        },
        {
          "output_type": "display_data",
          "data": {
            "text/plain": [
              "<Figure size 432x288 with 1 Axes>"
            ],
            "image/png": "[encoded data removed]"
          },
          "metadata": {
            "needs_background": "light"
          }
        }
      ]
    },
    {
      "cell_type": "markdown",
      "source": [
        "info 함수를 통해 각 column 별 null 데이터나 dtype을 통해 이상한 값이 들어있는지 확인할 수 있다."
      ],
      "metadata": {
        "id": "BP5b_e9_mxsH"
      }
    },
    {
      "cell_type": "code",
      "source": [
        "wine.info()"
      ],
      "metadata": {
        "colab": {
          "base_uri": "https://localhost:8080/"
        },
        "id": "cp8pNu6sl26E",
        "outputId": "ea4ed3bf-2ac0-4ba2-d173-4834c0b03026"
      },
      "execution_count": 25,
      "outputs": [
        {
          "output_type": "stream",
          "name": "stdout",
          "text": [
            "<class 'pandas.core.frame.DataFrame'>\n",
            "Int64Index: 6497 entries, 0 to 4897\n",
            "Data columns (total 13 columns):\n",
            " #   Column                Non-Null Count  Dtype  \n",
            "---  ------                --------------  -----  \n",
            " 0   fixed acidity         6497 non-null   float64\n",
            " 1   volatile acidity      6497 non-null   float64\n",
            " 2   citric acid           6497 non-null   float64\n",
            " 3   residual sugar        6497 non-null   float64\n",
            " 4   chlorides             6497 non-null   float64\n",
            " 5   free sulfur dioxide   6497 non-null   float64\n",
            " 6   total sulfur dioxide  6497 non-null   float64\n",
            " 7   density               6497 non-null   float64\n",
            " 8   pH                    6497 non-null   float64\n",
            " 9   sulphates             6497 non-null   float64\n",
            " 10  alcohol               6497 non-null   float64\n",
            " 11  quality               6497 non-null   int64  \n",
            " 12  type                  6497 non-null   int64  \n",
            "dtypes: float64(11), int64(2)\n",
            "memory usage: 710.6 KB\n"
          ]
        }
      ]
    },
    {
      "cell_type": "markdown",
      "source": [
        "데이터의 정규화를 위해 각 값과 최솟값의 차를 최댓값과 최솟값의 차로 나누었다. describe 함수를 통해 각 column의 min은 0, max는 1인 것을 확인할 수 있다."
      ],
      "metadata": {
        "id": "0IZ2fPnSnDeq"
      }
    },
    {
      "cell_type": "code",
      "source": [
        "wine_norm = (wine - wine.min()) / (wine.max() - wine.min())\n",
        "print(wine_norm.head())\n",
        "print(wine_norm.describe())"
      ],
      "metadata": {
        "colab": {
          "base_uri": "https://localhost:8080/"
        },
        "id": "vb6sKIJOmw3C",
        "outputId": "efbcfcaf-48ba-4f25-e3ae-5ccad0959e34"
      },
      "execution_count": 58,
      "outputs": [
        {
          "output_type": "stream",
          "name": "stdout",
          "text": [
            "   fixed acidity  volatile acidity  citric acid  residual sugar  chlorides  \\\n",
            "0       0.297521          0.413333     0.000000        0.019939   0.111296   \n",
            "1       0.330579          0.533333     0.000000        0.030675   0.147841   \n",
            "2       0.330579          0.453333     0.024096        0.026074   0.137874   \n",
            "3       0.611570          0.133333     0.337349        0.019939   0.109635   \n",
            "4       0.297521          0.413333     0.000000        0.019939   0.111296   \n",
            "\n",
            "   free sulfur dioxide  total sulfur dioxide   density        pH  sulphates  \\\n",
            "0             0.034722              0.064516  0.206092  0.612403   0.191011   \n",
            "1             0.083333              0.140553  0.186813  0.372093   0.258427   \n",
            "2             0.048611              0.110599  0.190669  0.418605   0.241573   \n",
            "3             0.055556              0.124424  0.209948  0.341085   0.202247   \n",
            "4             0.034722              0.064516  0.206092  0.612403   0.191011   \n",
            "\n",
            "    alcohol   quality  type  \n",
            "0  0.202899  0.333333   0.0  \n",
            "1  0.260870  0.333333   0.0  \n",
            "2  0.260870  0.333333   0.0  \n",
            "3  0.260870  0.500000   0.0  \n",
            "4  0.202899  0.333333   0.0  \n",
            "       fixed acidity  volatile acidity  citric acid  residual sugar  \\\n",
            "count    6497.000000       6497.000000  6497.000000     6497.000000   \n",
            "mean        0.282257          0.173111     0.191948        0.074283   \n",
            "std         0.107143          0.109758     0.087541        0.072972   \n",
            "min         0.000000          0.000000     0.000000        0.000000   \n",
            "25%         0.214876          0.100000     0.150602        0.018405   \n",
            "50%         0.264463          0.140000     0.186747        0.036810   \n",
            "75%         0.322314          0.213333     0.234940        0.115031   \n",
            "max         1.000000          1.000000     1.000000        1.000000   \n",
            "\n",
            "         chlorides  free sulfur dioxide  total sulfur dioxide      density  \\\n",
            "count  6497.000000          6497.000000           6497.000000  6497.000000   \n",
            "mean      0.078129             0.102518              0.252868     0.146262   \n",
            "std       0.058195             0.061630              0.130235     0.057811   \n",
            "min       0.000000             0.000000              0.000000     0.000000   \n",
            "25%       0.048173             0.055556              0.163594     0.100829   \n",
            "50%       0.063123             0.097222              0.258065     0.149990   \n",
            "75%       0.093023             0.138889              0.345622     0.190476   \n",
            "max       1.000000             1.000000              1.000000     1.000000   \n",
            "\n",
            "                pH    sulphates      alcohol      quality         type  \n",
            "count  6497.000000  6497.000000  6497.000000  6497.000000  6497.000000  \n",
            "mean      0.386435     0.174870     0.361131     0.469730     0.753886  \n",
            "std       0.124641     0.083599     0.172857     0.145543     0.430779  \n",
            "min       0.000000     0.000000     0.000000     0.000000     0.000000  \n",
            "25%       0.302326     0.117978     0.217391     0.333333     1.000000  \n",
            "50%       0.379845     0.162921     0.333333     0.500000     1.000000  \n",
            "75%       0.465116     0.213483     0.478261     0.500000     1.000000  \n",
            "max       1.000000     1.000000     1.000000     1.000000     1.000000  \n"
          ]
        }
      ]
    },
    {
      "cell_type": "markdown",
      "source": [
        "정렬된 데이터를 train, test로 분류하기위 랜덤하게 섞은 후 ndarray로 변환했다. sample 함수는 pandas 데이터 구조에서 랜덤하게 값을 추출한다. 파라미터 frac을 통해 추출할 비율을 결정하는데 1 이하의 값으로 설정한다. to_numpy를 이용해 ndarrat로 변환했다."
      ],
      "metadata": {
        "id": "g8OeP8yc13fP"
      }
    },
    {
      "cell_type": "code",
      "source": [
        "import numpy as np\n",
        "wine_suffle = wine_norm.sample(frac=1)\n",
        "print(wine_suffle.head())\n",
        "wine_np = wine_suffle.to_numpy()\n",
        "print(wine_np[:5])"
      ],
      "metadata": {
        "colab": {
          "base_uri": "https://localhost:8080/"
        },
        "id": "0BnoI75DnvvC",
        "outputId": "e67b1202-2d16-4593-e43c-560e71a2e6cb"
      },
      "execution_count": 59,
      "outputs": [
        {
          "output_type": "stream",
          "name": "stdout",
          "text": [
            "      fixed acidity  volatile acidity  citric acid  residual sugar  chlorides  \\\n",
            "901        0.347107          0.140000     0.174699        0.193252   0.061462   \n",
            "3838       0.223140          0.220000     0.132530        0.064417   0.071429   \n",
            "137        0.280992          0.223333     0.216867        0.021472   0.119601   \n",
            "995        0.330579          0.126667     0.204819        0.015337   0.061462   \n",
            "543        0.611570          0.386667     0.144578        0.029141   0.126246   \n",
            "\n",
            "      free sulfur dioxide  total sulfur dioxide   density        pH  \\\n",
            "901              0.086806              0.246544  0.215732  0.410853   \n",
            "3838             0.166667              0.313364  0.144399  0.325581   \n",
            "137              0.041667              0.089862  0.194525  0.589147   \n",
            "995              0.090278              0.341014  0.107769  0.255814   \n",
            "543              0.052083              0.108295  0.235011  0.263566   \n",
            "\n",
            "      sulphates   alcohol   quality  type  \n",
            "901    0.084270  0.246377  0.500000   1.0  \n",
            "3838   0.224719  0.173913  0.333333   1.0  \n",
            "137    0.235955  0.173913  0.333333   0.0  \n",
            "995    0.129213  0.362319  0.500000   1.0  \n",
            "543    0.280899  0.434783  0.500000   0.0  \n",
            "[[0.34710744 0.14       0.1746988  0.19325153 0.06146179 0.08680556\n",
            "  0.24654378 0.21573164 0.41085271 0.08426966 0.24637681 0.5\n",
            "  1.        ]\n",
            " [0.2231405  0.22       0.13253012 0.06441718 0.07142857 0.16666667\n",
            "  0.31336406 0.14439946 0.3255814  0.2247191  0.17391304 0.33333333\n",
            "  1.        ]\n",
            " [0.28099174 0.22333333 0.21686747 0.02147239 0.11960133 0.04166667\n",
            "  0.08986175 0.19452477 0.58914729 0.23595506 0.17391304 0.33333333\n",
            "  0.        ]\n",
            " [0.33057851 0.12666667 0.20481928 0.01533742 0.06146179 0.09027778\n",
            "  0.34101382 0.10776942 0.25581395 0.12921348 0.36231884 0.5\n",
            "  1.        ]\n",
            " [0.61157025 0.38666667 0.14457831 0.0291411  0.12624585 0.05208333\n",
            "  0.10829493 0.2350106  0.26356589 0.28089888 0.43478261 0.5\n",
            "  0.        ]]\n"
          ]
        }
      ]
    },
    {
      "cell_type": "markdown",
      "source": [
        "train, test 데이터를 8:2의 비율로 나누기 위해 데이터 길이의 0.8을 곱해 구분할 idx 값을 구했다. 2차원 데이터 슬라이싱이므로 , 를 이용해 row, column의 범위를 지정했다. x_train을 설명하자면 0부터 train_idx-1 까지의 row, 마지막을 제외한 column으로 데이터를 파싱했다. \n",
        "\n",
        "정답을 의미하는 y_train, y_test를 keras의 to_categorical 함수를 사용해 원 핫 인코딩 바꿨다. 원 핫 인코딩은 정답에 인덱스는 1, 나머지는 모두 0을 넣는 방식이다. "
      ],
      "metadata": {
        "id": "2mVke1L73w4q"
      }
    },
    {
      "cell_type": "code",
      "source": [
        "import tensorflow as tf\n",
        "train_idx = int(len(wine_np) * 0.8)\n",
        "x_train, y_train = wine_np[:train_idx,:-1], wine_np[:train_idx,-1]\n",
        "x_test, y_test = wine_np[train_idx:,:-1], wine_np[train_idx:,-1]\n",
        "print(x_train[0])\n",
        "print(y_train[0])\n",
        "print(x_test[0])\n",
        "print(y_test[0])\n",
        "\n",
        "y_train = tf.keras.utils.to_categorical(y_train, num_classes=2)\n",
        "y_test = tf.keras.utils.to_categorical(y_test, num_classes=2)\n",
        "print(y_train[0])\n",
        "print(y_test[0])"
      ],
      "metadata": {
        "colab": {
          "base_uri": "https://localhost:8080/"
        },
        "id": "YBPL1INRoZNN",
        "outputId": "cacc2f26-b556-4325-cd92-2d7c18fa0ba5"
      },
      "execution_count": 30,
      "outputs": [
        {
          "output_type": "stream",
          "name": "stdout",
          "text": [
            "[0.17355372 0.06666667 0.1686747  0.00613497 0.04651163 0.07986111\n",
            " 0.18894009 0.07383844 0.44186047 0.18539326 0.38405797 0.66666667]\n",
            "1.0\n",
            "[0.45454545 0.28       0.21686747 0.01840491 0.12458472 0.01736111\n",
            " 0.02534562 0.19144014 0.42635659 0.30898876 0.4057971  0.5       ]\n",
            "0.0\n",
            "[0. 1.]\n",
            "[1. 0.]\n"
          ]
        }
      ]
    },
    {
      "cell_type": "markdown",
      "source": [
        "분류 모델이므로 마지막 layer의 activation을 softmax로 설정했다. softmax는 출력값들을 자연로그의 밑인 e의 지수로 사용해 계산한 뒤 모두 더한 값으로 나눈다. 큰 값을 강조하고 작은 값은 약화하는 효과를 보인다. softmax는 확률이 필요한 다양한 분야에서 사용된다. 또한 마지막 layer의 뉴런의 개수가 2개로 설정되어 있다. 원 핫 인코딩으로 변환한 정답의 차원의 개수가 2개이기 때문이다."
      ],
      "metadata": {
        "id": "vJ_18KWO5coQ"
      }
    },
    {
      "cell_type": "code",
      "source": [
        "import tensorflow as tf\n",
        "model = tf.keras.Sequential([\n",
        "  tf.keras.layers.Dense(units = 48,activation = 'relu', input_shape=(12,)),\n",
        "  tf.keras.layers.Dense(units = 24,activation = 'relu'),\n",
        "  tf.keras.layers.Dense(units = 12,activation = 'relu'),\n",
        "  tf.keras.layers.Dense(units = 2, activation = 'softmax')\n",
        "])\n",
        "\n",
        "model.compile(optimizer = tf.keras.optimizers.Adam(learning_rate=0.07),loss='categorical_crossentropy',\n",
        "              metrics=['accuracy'])\n",
        "\n",
        "model.summary()"
      ],
      "metadata": {
        "colab": {
          "base_uri": "https://localhost:8080/"
        },
        "id": "EFUFYutK3bxa",
        "outputId": "8a720c34-3ad0-448b-8113-a77a94dd56cc"
      },
      "execution_count": 37,
      "outputs": [
        {
          "output_type": "stream",
          "name": "stdout",
          "text": [
            "Model: \"sequential_1\"\n",
            "_________________________________________________________________\n",
            " Layer (type)                Output Shape              Param #   \n",
            "=================================================================\n",
            " dense_4 (Dense)             (None, 48)                624       \n",
            "                                                                 \n",
            " dense_5 (Dense)             (None, 24)                1176      \n",
            "                                                                 \n",
            " dense_6 (Dense)             (None, 12)                300       \n",
            "                                                                 \n",
            " dense_7 (Dense)             (None, 2)                 26        \n",
            "                                                                 \n",
            "=================================================================\n",
            "Total params: 2,126\n",
            "Trainable params: 2,126\n",
            "Non-trainable params: 0\n",
            "_________________________________________________________________\n"
          ]
        }
      ]
    },
    {
      "cell_type": "markdown",
      "source": [
        "손실함수에 사용된 categorical_crossentropy에 설명에 앞서 엔트로피와 정보이론에 대해 간략히 요악해봤다. 정보이론에서 정보량을 나타내기 위해 사용되는 엔트로피는 불확실한 정보를 숫자로 정량화하는 도구다. 엔트로피는 확률의 역수의 로그를 취한 값이다. 역수를 취하는 이유는 확률이 높은 사건일수록 정보량이 적다고 판단하기 때문이다. 엔트로피가 높으면 불확실성이 높음을 의미하므로 엔트로피를 줄이면 불확실성이 낮아지고 의미 있는 정보를 얻을 수 있다.\n",
        "\n",
        "위 설명을 참고하여 크로스 엔트로피는 실제 분포에 대해 알지 못하는 상황에서 모델링을 통해 구한 분포를 통하여 실제 분포를 예측하는 것이다. 크로스 엔트로피의 값도 손실과 같아 네트워크는 값을 낮추는 방향으로 학습한다. \n",
        "\n",
        "complie의 metric 인수에 추가된 accuracy는 정확도를 의미하며 모델의 학습 history에 loss와 함께 저장된다."
      ],
      "metadata": {
        "id": "lUZNbVkj6O7t"
      }
    },
    {
      "cell_type": "markdown",
      "source": [
        "모델을 학습시키면 accuracy, val_accuracy를 확인할 수 있다. accuracy, val_accuracy 모두 1과 가까워져 매우 좋은 성능의 모델이 되었다.\n"
      ],
      "metadata": {
        "id": "i83Mg5ok9QhA"
      }
    },
    {
      "cell_type": "code",
      "source": [
        "history = model.fit(x_train,y_train,epochs=25,batch_size=32, validation_split=0.25)"
      ],
      "metadata": {
        "colab": {
          "base_uri": "https://localhost:8080/"
        },
        "id": "CfkuiYig5HSa",
        "outputId": "c3a72265-803e-4954-fd06-c8fb58fc3b8c"
      },
      "execution_count": 38,
      "outputs": [
        {
          "output_type": "stream",
          "name": "stdout",
          "text": [
            "Epoch 1/25\n",
            "122/122 [==============================] - 1s 4ms/step - loss: 0.1392 - accuracy: 0.9533 - val_loss: 0.0644 - val_accuracy: 0.9831\n",
            "Epoch 2/25\n",
            "122/122 [==============================] - 0s 2ms/step - loss: 0.0647 - accuracy: 0.9826 - val_loss: 0.0816 - val_accuracy: 0.9738\n",
            "Epoch 3/25\n",
            "122/122 [==============================] - 0s 2ms/step - loss: 0.0604 - accuracy: 0.9826 - val_loss: 0.0368 - val_accuracy: 0.9908\n",
            "Epoch 4/25\n",
            "122/122 [==============================] - 0s 3ms/step - loss: 0.0609 - accuracy: 0.9820 - val_loss: 0.0403 - val_accuracy: 0.9908\n",
            "Epoch 5/25\n",
            "122/122 [==============================] - 0s 3ms/step - loss: 0.0504 - accuracy: 0.9864 - val_loss: 0.0372 - val_accuracy: 0.9908\n",
            "Epoch 6/25\n",
            "122/122 [==============================] - 0s 2ms/step - loss: 0.0459 - accuracy: 0.9854 - val_loss: 0.0407 - val_accuracy: 0.9915\n",
            "Epoch 7/25\n",
            "122/122 [==============================] - 0s 3ms/step - loss: 0.0492 - accuracy: 0.9833 - val_loss: 0.0431 - val_accuracy: 0.9900\n",
            "Epoch 8/25\n",
            "122/122 [==============================] - 0s 2ms/step - loss: 0.0553 - accuracy: 0.9836 - val_loss: 0.0478 - val_accuracy: 0.9877\n",
            "Epoch 9/25\n",
            "122/122 [==============================] - 0s 3ms/step - loss: 0.0436 - accuracy: 0.9877 - val_loss: 0.0432 - val_accuracy: 0.9892\n",
            "Epoch 10/25\n",
            "122/122 [==============================] - 0s 3ms/step - loss: 0.0604 - accuracy: 0.9818 - val_loss: 0.0399 - val_accuracy: 0.9885\n",
            "Epoch 11/25\n",
            "122/122 [==============================] - 0s 3ms/step - loss: 0.0466 - accuracy: 0.9859 - val_loss: 0.0335 - val_accuracy: 0.9908\n",
            "Epoch 12/25\n",
            "122/122 [==============================] - 0s 3ms/step - loss: 0.0461 - accuracy: 0.9861 - val_loss: 0.0526 - val_accuracy: 0.9900\n",
            "Epoch 13/25\n",
            "122/122 [==============================] - 0s 2ms/step - loss: 0.0438 - accuracy: 0.9869 - val_loss: 0.0550 - val_accuracy: 0.9854\n",
            "Epoch 14/25\n",
            "122/122 [==============================] - 0s 3ms/step - loss: 0.0430 - accuracy: 0.9872 - val_loss: 0.0342 - val_accuracy: 0.9908\n",
            "Epoch 15/25\n",
            "122/122 [==============================] - 0s 3ms/step - loss: 0.0368 - accuracy: 0.9869 - val_loss: 0.0421 - val_accuracy: 0.9908\n",
            "Epoch 16/25\n",
            "122/122 [==============================] - 0s 2ms/step - loss: 0.0510 - accuracy: 0.9843 - val_loss: 0.0376 - val_accuracy: 0.9915\n",
            "Epoch 17/25\n",
            "122/122 [==============================] - 0s 2ms/step - loss: 0.0425 - accuracy: 0.9872 - val_loss: 0.0500 - val_accuracy: 0.9908\n",
            "Epoch 18/25\n",
            "122/122 [==============================] - 0s 3ms/step - loss: 0.0410 - accuracy: 0.9890 - val_loss: 0.0442 - val_accuracy: 0.9885\n",
            "Epoch 19/25\n",
            "122/122 [==============================] - 0s 2ms/step - loss: 0.0349 - accuracy: 0.9908 - val_loss: 0.0381 - val_accuracy: 0.9938\n",
            "Epoch 20/25\n",
            "122/122 [==============================] - 0s 3ms/step - loss: 0.0341 - accuracy: 0.9897 - val_loss: 0.0509 - val_accuracy: 0.9892\n",
            "Epoch 21/25\n",
            "122/122 [==============================] - 0s 3ms/step - loss: 0.0351 - accuracy: 0.9902 - val_loss: 0.0365 - val_accuracy: 0.9923\n",
            "Epoch 22/25\n",
            "122/122 [==============================] - 0s 2ms/step - loss: 0.0391 - accuracy: 0.9892 - val_loss: 0.0379 - val_accuracy: 0.9923\n",
            "Epoch 23/25\n",
            "122/122 [==============================] - 0s 3ms/step - loss: 0.0346 - accuracy: 0.9895 - val_loss: 0.0775 - val_accuracy: 0.9785\n",
            "Epoch 24/25\n",
            "122/122 [==============================] - 0s 3ms/step - loss: 0.0349 - accuracy: 0.9902 - val_loss: 0.0381 - val_accuracy: 0.9931\n",
            "Epoch 25/25\n",
            "122/122 [==============================] - 0s 2ms/step - loss: 0.0352 - accuracy: 0.9892 - val_loss: 0.0735 - val_accuracy: 0.9862\n"
          ]
        }
      ]
    },
    {
      "cell_type": "markdown",
      "source": [
        "matplotlib를 이용하여 loss, accuracy를 시각화 하였다. accuracy, val_accuracy 모두 1과 가까워져 매우 좋은 결과를 확인할 수 있다."
      ],
      "metadata": {
        "id": "QFXvW7nt-YcS"
      }
    },
    {
      "cell_type": "code",
      "source": [
        "import matplotlib.pyplot as plt\n",
        "plt.figure(figsize=(12,4))\n",
        "\n",
        "plt.subplot(1,2,1)\n",
        "plt.plot(history.history['loss'],'b-',label='loss')\n",
        "plt.plot(history.history['val_loss'],'r--', label='val_loss')\n",
        "plt.xlabel('Epoch')\n",
        "plt.legend()\n",
        "\n",
        "plt.subplot(1,2,2)\n",
        "plt.plot(history.history['accuracy'],'g-',label='accuracy')\n",
        "plt.plot(history.history['val_accuracy'],'k--', label='val_accuracy')\n",
        "plt.xlabel('Epoch')\n",
        "plt.ylim(0.7,1)\n",
        "plt.legend()\n",
        "\n",
        "plt.show"
      ],
      "metadata": {
        "colab": {
          "base_uri": "https://localhost:8080/",
          "height": 301
        },
        "id": "MKoA0YMC9G64",
        "outputId": "99142008-2c11-4979-a40a-296596fb6e91"
      },
      "execution_count": 39,
      "outputs": [
        {
          "output_type": "execute_result",
          "data": {
            "text/plain": [
              "<function matplotlib.pyplot.show>"
            ]
          },
          "metadata": {},
          "execution_count": 39
        },
        {
          "output_type": "display_data",
          "data": {
            "text/plain": [
              "<Figure size 864x288 with 2 Axes>"
            ],
            "image/png": "[encoded data removed]"
          },
          "metadata": {
            "needs_background": "light"
          }
        }
      ]
    },
    {
      "cell_type": "markdown",
      "source": [
        "test 데이터를 evaluate 함수를 이용하여 모델의 성능을 확인하였다. accuracy가 0.9792로 train 데이터 학습 결과보다는 조금 낮지만 거의 오차없이 와인을 분류함을 알 수 있다. "
      ],
      "metadata": {
        "id": "OkOReWWn-v-V"
      }
    },
    {
      "cell_type": "code",
      "source": [
        "model.evaluate(x_test,y_test)"
      ],
      "metadata": {
        "colab": {
          "base_uri": "https://localhost:8080/"
        },
        "id": "VbS2yIeb-MOx",
        "outputId": "52b04c5d-bbf7-462f-cadf-e9aaa330047d"
      },
      "execution_count": 41,
      "outputs": [
        {
          "output_type": "stream",
          "name": "stdout",
          "text": [
            "41/41 [==============================] - 0s 1ms/step - loss: 0.0554 - accuracy: 0.9792\n"
          ]
        },
        {
          "output_type": "execute_result",
          "data": {
            "text/plain": [
              "[0.055414892733097076, 0.9792307615280151]"
            ]
          },
          "metadata": {},
          "execution_count": 41
        }
      ]
    },
    {
      "cell_type": "markdown",
      "source": [
        "# 5.2 다항분류"
      ],
      "metadata": {
        "id": "zvFEsTx2_KxG"
      }
    },
    {
      "cell_type": "markdown",
      "source": [
        "이항 분류가 범주가 2개인 데이터를 분류하는 것이였다면, 다항 분류는 범주의 수가 2개 이상인 데이터를 분류하는 것이다. 다항 분류의 이해를 위해 기존 데이터인 wine의 quality column을 데이터셋으로 한다. 데이터는 3~9 사이의 값을 가지며 각 데이터의 분포를 확인했을 때 불균형하게 구성되어 있다."
      ],
      "metadata": {
        "id": "cIwze_nC_NCg"
      }
    },
    {
      "cell_type": "code",
      "source": [
        "print(wine['quality'].describe())\n",
        "print(wine['quality'].value_counts())"
      ],
      "metadata": {
        "colab": {
          "base_uri": "https://localhost:8080/"
        },
        "id": "nj9raHpr-vhv",
        "outputId": "4727e187-6e0b-479c-bc29-44199d8be16a"
      },
      "execution_count": 60,
      "outputs": [
        {
          "output_type": "stream",
          "name": "stdout",
          "text": [
            "count    6497.000000\n",
            "mean        5.818378\n",
            "std         0.873255\n",
            "min         3.000000\n",
            "25%         5.000000\n",
            "50%         6.000000\n",
            "75%         6.000000\n",
            "max         9.000000\n",
            "Name: quality, dtype: float64\n",
            "6    2836\n",
            "5    2138\n",
            "7    1079\n",
            "4     216\n",
            "8     193\n",
            "3      30\n",
            "9       5\n",
            "Name: quality, dtype: int64\n"
          ]
        }
      ]
    },
    {
      "cell_type": "markdown",
      "source": [
        "pandas의 hist 함수를 이용해 데이터 분포의 불균형함을 시각화 할 수 있다. "
      ],
      "metadata": {
        "id": "YY6QmatvA6Kd"
      }
    },
    {
      "cell_type": "code",
      "source": [
        "wine['quality'].hist()"
      ],
      "metadata": {
        "colab": {
          "base_uri": "https://localhost:8080/",
          "height": 283
        },
        "id": "_6Pe-5L-_ggW",
        "outputId": "55ad3df6-e8d3-44e9-9efe-b3de2bd80970"
      },
      "execution_count": 46,
      "outputs": [
        {
          "output_type": "execute_result",
          "data": {
            "text/plain": [
              "<matplotlib.axes._subplots.AxesSubplot at 0x7f7c05d2bdd0>"
            ]
          },
          "metadata": {},
          "execution_count": 46
        },
        {
          "output_type": "display_data",
          "data": {
            "text/plain": [
              "<Figure size 432x288 with 1 Axes>"
            ],
            "image/png": "[encoded data removed]"
          },
          "metadata": {
            "needs_background": "light"
          }
        }
      ]
    },
    {
      "cell_type": "markdown",
      "source": [
        "데이터의 범주를 3 - 5를 0, 6을 1, 7 - 9를 2로 재분류하여 범주의 불균형을 해결했다. loc 함수는 pandas에서 제공되는 함수로 특정 데이터의 인덱스를 골라낸다. 괄호 안에 인수를 하나만 넣으면 행, ,를 포함한 두개의 인수를 넣으면 행, 열을 골라낼 수 있다. 재분류한 범주를 describe, value_counts 함수로 확인해보면 적절한 비율로 분포됨을 볼 수 있다."
      ],
      "metadata": {
        "id": "e8Q5szIABQcY"
      }
    },
    {
      "cell_type": "code",
      "source": [
        "wine.loc[wine['quality'] <= 5, 'new_quality'] = 0\n",
        "wine.loc[wine['quality'] == 6, 'new_quality'] = 1\n",
        "wine.loc[wine['quality'] >= 7, 'new_quality'] = 2\n",
        "print(wine['new_quality'].describe())\n",
        "print(wine['new_quality'].value_counts())"
      ],
      "metadata": {
        "colab": {
          "base_uri": "https://localhost:8080/"
        },
        "id": "UOHE2hjxA3zq",
        "outputId": "faf55337-998e-4744-d500-d4ac2f957c9a"
      },
      "execution_count": 61,
      "outputs": [
        {
          "output_type": "stream",
          "name": "stdout",
          "text": [
            "count    6497.000000\n",
            "mean        0.829614\n",
            "std         0.731124\n",
            "min         0.000000\n",
            "25%         0.000000\n",
            "50%         1.000000\n",
            "75%         1.000000\n",
            "max         2.000000\n",
            "Name: new_quality, dtype: float64\n",
            "1.0    2836\n",
            "0.0    2384\n",
            "2.0    1277\n",
            "Name: new_quality, dtype: int64\n"
          ]
        }
      ]
    },
    {
      "cell_type": "markdown",
      "source": [
        "quality column을 재분류 했으므로 삭제해주고 이항 분류에서 데이터를 전처리하고 train 데이터와 test 데이터를 분리했던 과정을 그대로 실행한다. new_quality column이 마지막에 추가되었기에 정상적으로 분리된다. 또한 y_train, y_test의 범주가 3개 이므로 num_classes의 값을 3으로 설정했다."
      ],
      "metadata": {
        "id": "-RAyYbB-Dsaq"
      }
    },
    {
      "cell_type": "code",
      "source": [
        "del wine['quality']\n",
        "wine_norm = (wine - wine.min()) / (wine.max() - wine.min())\n",
        "wine_suffle = wine_norm.sample(frac=1)\n",
        "wine_np = wine_suffle.to_numpy()\n",
        "\n",
        "train_idx = int(len(wine_np) * 0.8)\n",
        "x_train, y_train = wine_np[:train_idx,:-1], wine_np[:train_idx,-1]\n",
        "x_test, y_test = wine_np[train_idx:,:-1], wine_np[train_idx:,-1]\n",
        "\n",
        "y_train = tf.keras.utils.to_categorical(y_train, num_classes=3)\n",
        "y_test = tf.keras.utils.to_categorical(y_test, num_classes=3)"
      ],
      "metadata": {
        "id": "wpYGRt__CVnU"
      },
      "execution_count": 62,
      "outputs": []
    },
    {
      "cell_type": "markdown",
      "source": [
        "모델도 이항 분류와 동일하게 생성하였는데 차이점은 마지막 layer 뉴런의 수를 범주의 개수인 3으로 설정한 것이다. accuracy는 이항 분류보다 낮은 약 0.79의 값을 보인다. "
      ],
      "metadata": {
        "id": "kj-JsJBCEFOo"
      }
    },
    {
      "cell_type": "code",
      "source": [
        "import tensorflow as tf\n",
        "model = tf.keras.Sequential([\n",
        "  tf.keras.layers.Dense(units = 48,activation = 'relu', input_shape=(12,)),\n",
        "  tf.keras.layers.Dense(units = 24,activation = 'relu'),\n",
        "  tf.keras.layers.Dense(units = 12,activation = 'relu'),\n",
        "  tf.keras.layers.Dense(units = 3, activation = 'softmax')\n",
        "])\n",
        "\n",
        "model.compile(optimizer = tf.keras.optimizers.Adam(learning_rate=0.07),loss='categorical_crossentropy',\n",
        "              metrics=['accuracy'])\n",
        "\n",
        "history = model.fit(x_train,y_train,epochs=25,batch_size=32, validation_split=0.25)"
      ],
      "metadata": {
        "colab": {
          "base_uri": "https://localhost:8080/"
        },
        "id": "lopPrG8oECH_",
        "outputId": "7d197e04-8f8f-4933-afd4-7ce027ff4f35"
      },
      "execution_count": 63,
      "outputs": [
        {
          "output_type": "stream",
          "name": "stdout",
          "text": [
            "Epoch 1/25\n",
            "122/122 [==============================] - 1s 4ms/step - loss: 0.5085 - accuracy: 0.7844 - val_loss: 0.5023 - val_accuracy: 0.8054\n",
            "Epoch 2/25\n",
            "122/122 [==============================] - 0s 3ms/step - loss: 0.4398 - accuracy: 0.7945 - val_loss: 0.4564 - val_accuracy: 0.8054\n",
            "Epoch 3/25\n",
            "122/122 [==============================] - 0s 3ms/step - loss: 0.4296 - accuracy: 0.7955 - val_loss: 0.4075 - val_accuracy: 0.8054\n",
            "Epoch 4/25\n",
            "122/122 [==============================] - 0s 3ms/step - loss: 0.4269 - accuracy: 0.7934 - val_loss: 0.4023 - val_accuracy: 0.8054\n",
            "Epoch 5/25\n",
            "122/122 [==============================] - 0s 3ms/step - loss: 0.4175 - accuracy: 0.7970 - val_loss: 0.4328 - val_accuracy: 0.8054\n",
            "Epoch 6/25\n",
            "122/122 [==============================] - 1s 7ms/step - loss: 0.4263 - accuracy: 0.8004 - val_loss: 0.4357 - val_accuracy: 0.7792\n",
            "Epoch 7/25\n",
            "122/122 [==============================] - 0s 3ms/step - loss: 0.4225 - accuracy: 0.7939 - val_loss: 0.4103 - val_accuracy: 0.8054\n",
            "Epoch 8/25\n",
            "122/122 [==============================] - 0s 3ms/step - loss: 0.4175 - accuracy: 0.7952 - val_loss: 0.3980 - val_accuracy: 0.8054\n",
            "Epoch 9/25\n",
            "122/122 [==============================] - 0s 3ms/step - loss: 0.4169 - accuracy: 0.7927 - val_loss: 0.4034 - val_accuracy: 0.8054\n",
            "Epoch 10/25\n",
            "122/122 [==============================] - 0s 2ms/step - loss: 0.4186 - accuracy: 0.7957 - val_loss: 0.4185 - val_accuracy: 0.7954\n",
            "Epoch 11/25\n",
            "122/122 [==============================] - 0s 2ms/step - loss: 0.4173 - accuracy: 0.7988 - val_loss: 0.4364 - val_accuracy: 0.8054\n",
            "Epoch 12/25\n",
            "122/122 [==============================] - 0s 3ms/step - loss: 0.4170 - accuracy: 0.7988 - val_loss: 0.4198 - val_accuracy: 0.8054\n",
            "Epoch 13/25\n",
            "122/122 [==============================] - 0s 2ms/step - loss: 0.4145 - accuracy: 0.8001 - val_loss: 0.3986 - val_accuracy: 0.8115\n",
            "Epoch 14/25\n",
            "122/122 [==============================] - 0s 2ms/step - loss: 0.4203 - accuracy: 0.7973 - val_loss: 0.3948 - val_accuracy: 0.8154\n",
            "Epoch 15/25\n",
            "122/122 [==============================] - 0s 2ms/step - loss: 0.4092 - accuracy: 0.8016 - val_loss: 0.3955 - val_accuracy: 0.8246\n",
            "Epoch 16/25\n",
            "122/122 [==============================] - 0s 3ms/step - loss: 0.4195 - accuracy: 0.7960 - val_loss: 0.3931 - val_accuracy: 0.8208\n",
            "Epoch 17/25\n",
            "122/122 [==============================] - 0s 3ms/step - loss: 0.4155 - accuracy: 0.8029 - val_loss: 0.3902 - val_accuracy: 0.8054\n",
            "Epoch 18/25\n",
            "122/122 [==============================] - 0s 2ms/step - loss: 0.4199 - accuracy: 0.8101 - val_loss: 0.4234 - val_accuracy: 0.8200\n",
            "Epoch 19/25\n",
            "122/122 [==============================] - 0s 3ms/step - loss: 0.4117 - accuracy: 0.7970 - val_loss: 0.3952 - val_accuracy: 0.8254\n",
            "Epoch 20/25\n",
            "122/122 [==============================] - 0s 3ms/step - loss: 0.4095 - accuracy: 0.7980 - val_loss: 0.3951 - val_accuracy: 0.8254\n",
            "Epoch 21/25\n",
            "122/122 [==============================] - 0s 3ms/step - loss: 0.4155 - accuracy: 0.8073 - val_loss: 0.3905 - val_accuracy: 0.8185\n",
            "Epoch 22/25\n",
            "122/122 [==============================] - 0s 3ms/step - loss: 0.4092 - accuracy: 0.8063 - val_loss: 0.4020 - val_accuracy: 0.8054\n",
            "Epoch 23/25\n",
            "122/122 [==============================] - 0s 3ms/step - loss: 0.4243 - accuracy: 0.8057 - val_loss: 0.4157 - val_accuracy: 0.8269\n",
            "Epoch 24/25\n",
            "122/122 [==============================] - 0s 3ms/step - loss: 0.4151 - accuracy: 0.7952 - val_loss: 0.3974 - val_accuracy: 0.8223\n",
            "Epoch 25/25\n",
            "122/122 [==============================] - 0s 3ms/step - loss: 0.4224 - accuracy: 0.7924 - val_loss: 0.3868 - val_accuracy: 0.8054\n"
          ]
        }
      ]
    },
    {
      "cell_type": "markdown",
      "source": [
        "이항 분류 그래프와 그래프를 비교해보면 성능의 차이가 확실하게 느껴진다. 특히 val loss가 중간중간 튀는것을 보아 정답을 찾기 어려운 문제임을 알 수 있다."
      ],
      "metadata": {
        "id": "GRCmPq94FYNe"
      }
    },
    {
      "cell_type": "code",
      "source": [
        "import matplotlib.pyplot as plt\n",
        "plt.figure(figsize=(12,4))\n",
        "\n",
        "plt.subplot(1,2,1)\n",
        "plt.plot(history.history['loss'],'b-',label='loss')\n",
        "plt.plot(history.history['val_loss'],'r--', label='val_loss')\n",
        "plt.xlabel('Epoch')\n",
        "plt.legend()\n",
        "\n",
        "plt.subplot(1,2,2)\n",
        "plt.plot(history.history['accuracy'],'g-',label='accuracy')\n",
        "plt.plot(history.history['val_accuracy'],'k--', label='val_accuracy')\n",
        "plt.xlabel('Epoch')\n",
        "plt.ylim(0.7,1)\n",
        "plt.legend()\n",
        "\n",
        "plt.show"
      ],
      "metadata": {
        "colab": {
          "base_uri": "https://localhost:8080/",
          "height": 301
        },
        "id": "vkbLWywyEWZG",
        "outputId": "7d7e121d-fa0e-4413-b431-a94d980f69a2"
      },
      "execution_count": 64,
      "outputs": [
        {
          "output_type": "execute_result",
          "data": {
            "text/plain": [
              "<function matplotlib.pyplot.show>"
            ]
          },
          "metadata": {},
          "execution_count": 64
        },
        {
          "output_type": "display_data",
          "data": {
            "text/plain": [
              "<Figure size 864x288 with 2 Axes>"
            ],
            "image/png": "[encoded data removed]"
          },
          "metadata": {
            "needs_background": "light"
          }
        }
      ]
    },
    {
      "cell_type": "markdown",
      "source": [
        "![그래프.PNG](data:image/png;base64,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)"
      ],
      "metadata": {
        "id": "bOUMLLJRFmV1"
      }
    },
    {
      "cell_type": "markdown",
      "source": [
        "test 데이터를 이용한 evaluate 결과는 train 데이터의 accuracy보다 조금 높은 약 0.81을 보인다. 데이터의 구성을 임의로 변경했기에 좋은 성과가 나오기 어렵다."
      ],
      "metadata": {
        "id": "UVXbnk4sFyn9"
      }
    },
    {
      "cell_type": "code",
      "source": [
        "model.evaluate(x_test,y_test)"
      ],
      "metadata": {
        "colab": {
          "base_uri": "https://localhost:8080/"
        },
        "id": "k3dywowGFITS",
        "outputId": "07a79928-b63f-4c7e-970e-311e6fc2a36c"
      },
      "execution_count": 65,
      "outputs": [
        {
          "output_type": "stream",
          "name": "stdout",
          "text": [
            "41/41 [==============================] - 0s 2ms/step - loss: 0.3849 - accuracy: 0.8162\n"
          ]
        },
        {
          "output_type": "execute_result",
          "data": {
            "text/plain": [
              "[0.38487380743026733, 0.8161538243293762]"
            ]
          },
          "metadata": {},
          "execution_count": 65
        }
      ]
    },
    {
      "cell_type": "markdown",
      "source": [
        "# 5.3 Fashion MNIST"
      ],
      "metadata": {
        "id": "jUL4fm_LGwF-"
      }
    },
    {
      "cell_type": "markdown",
      "source": [
        "Fashion MNIST 데이터는 옷, 신발, 가방의 이미지로 구성되어 있다. 그레이스케일, 즉 이미지의 밝기 정보만 남긴 회색 이미지, 범주의 수는 10개, 이미지 픽셀은 28*28로 되어 있다. train 데이터는 60000개, test 데이터는 10000개의 이미지를 포함한다."
      ],
      "metadata": {
        "id": "f3g7GIXcGzC1"
      }
    },
    {
      "cell_type": "code",
      "source": [
        "fashion_mnist = tf.keras.datasets.fashion_mnist\n",
        "(x_train, y_train), (x_test, y_test) = fashion_mnist.load_data()\n",
        "\n",
        "print(len(x_train),len(x_test))"
      ],
      "metadata": {
        "colab": {
          "base_uri": "https://localhost:8080/"
        },
        "id": "1ZYd8lFJFJ7o",
        "outputId": "1a0c328b-bf49-4035-84f2-d4f92df0d994"
      },
      "execution_count": 75,
      "outputs": [
        {
          "output_type": "stream",
          "name": "stdout",
          "text": [
            "60000 10000\n"
          ]
        }
      ]
    },
    {
      "cell_type": "markdown",
      "source": [
        "imshow 함수는 이미지를 그래프 형태로 표현할 수 있다. 파라미터 cmap을 gray로 설정해 그레이스케일 이미지로 표현했다. colorbar 함수는 색상의 값의 정보를 막대기 형태로 표시한다. 데이터의 이미지가 0 ~ 255의 값을 가지며 28 * 28 픽셀임을 확인할 수 있다."
      ],
      "metadata": {
        "id": "_jCiEuzaITAo"
      }
    },
    {
      "cell_type": "code",
      "source": [
        "import matplotlib.pyplot as plt\n",
        "plt.imshow(x_train[0], cmap = 'gray')\n",
        "plt.colorbar()\n",
        "plt.show()\n",
        "\n",
        "print(y_train[0])"
      ],
      "metadata": {
        "colab": {
          "base_uri": "https://localhost:8080/",
          "height": 283
        },
        "id": "orXZjSdMH5C6",
        "outputId": "3c0a1358-176f-4fe0-84af-c82b3b16f711"
      },
      "execution_count": 76,
      "outputs": [
        {
          "output_type": "display_data",
          "data": {
            "text/plain": [
              "<Figure size 432x288 with 2 Axes>"
            ],
            "image/png": "[encoded data removed]"
          },
          "metadata": {
            "needs_background": "light"
          }
        },
        {
          "output_type": "stream",
          "name": "stdout",
          "text": [
            "9\n"
          ]
        }
      ]
    },
    {
      "cell_type": "markdown",
      "source": [
        "데이터 정규화를 위해 데이터를 255로 나눠 0과 1사이의 값으로 변환했다. 정상적으로 되었는지 print 해서 확인했는데, github에서 코드가 너무 길어져서 주석처리했다."
      ],
      "metadata": {
        "id": "J_sSq7YfJmqI"
      }
    },
    {
      "cell_type": "code",
      "source": [
        "x_train = x_train / 255.0\n",
        "x_test = x_test / 255.0\n",
        "\n",
        "#|print(x_train[0])"
      ],
      "metadata": {
        "id": "USW08_YAII2W"
      },
      "execution_count": 77,
      "outputs": []
    },
    {
      "cell_type": "markdown",
      "source": [
        "현재 y_train, y_test 데이터를 원 핫 인코딩으로 변경하게 되면 9는 [0,0,0,0,0,0,0,0,0,1], 4는 [0,0,0,0,1,0,0,0,0,0]이 된다. 이렇게 대부분의 값이 0으로 구성된 행렬을 희소행렬이라고 하는데 0의 개수가 많으면 메모리를 많이 차지하므로 범주의 개수가 많을 때는 굳이 원 핫 인코딩을 할 필요가 없다."
      ],
      "metadata": {
        "id": "QDFRD-8yLc2W"
      }
    },
    {
      "cell_type": "markdown",
      "source": [
        "이미 분류 모델은 각 범주의 확률이 1차원 배열로 나와야 한다. 모델 생성 시 사용된 Flatten은 2차원 이상의 배열을 1차원 배열로 만들어준다. 데이터의 범주의 개수가 10이므로 마지막 layer의 뉴런의 수를 10으로 설정했다.\n",
        "\n",
        "coplie 함수의 loss에 sparse_categorical_crossentropy가 사용되었는데 이 것을 사용하면 별도의 데이터 전처리 없이 희소 행렬을 나타내는 데이터를 정답 행렬로 사용할 수 있다. optimizer Adam의 learnig rate도 앞선 모델들과 달리 default로 설정했는데 이는 0.001로 설정된다."
      ],
      "metadata": {
        "id": "JqZ6TT7INmos"
      }
    },
    {
      "cell_type": "code",
      "source": [
        "import tensorflow as tf\n",
        "model = tf.keras.Sequential([\n",
        "  tf.keras.layers.Flatten(input_shape=(28,28)),\n",
        "  tf.keras.layers.Dense(units = 128,activation = 'relu'),\n",
        "  tf.keras.layers.Dense(units = 10, activation = 'softmax')\n",
        "])\n",
        "\n",
        "model.compile(optimizer = tf.keras.optimizers.Adam(),\n",
        "              loss='sparse_categorical_crossentropy',\n",
        "              metrics=['accuracy'])\n",
        "\n",
        "model.summary()"
      ],
      "metadata": {
        "colab": {
          "base_uri": "https://localhost:8080/"
        },
        "id": "CXoTZPVnJmEM",
        "outputId": "31ac2f69-0d85-4d07-b2a1-9f33aa6215b0"
      },
      "execution_count": 78,
      "outputs": [
        {
          "output_type": "stream",
          "name": "stdout",
          "text": [
            "Model: \"sequential_6\"\n",
            "_________________________________________________________________\n",
            " Layer (type)                Output Shape              Param #   \n",
            "=================================================================\n",
            " flatten_2 (Flatten)         (None, 784)               0         \n",
            "                                                                 \n",
            " dense_20 (Dense)            (None, 128)               100480    \n",
            "                                                                 \n",
            " dense_21 (Dense)            (None, 10)                1290      \n",
            "                                                                 \n",
            "=================================================================\n",
            "Total params: 101,770\n",
            "Trainable params: 101,770\n",
            "Non-trainable params: 0\n",
            "_________________________________________________________________\n"
          ]
        }
      ]
    },
    {
      "cell_type": "markdown",
      "source": [
        "학습 결과를 보면 accuracy는 계속 증가하지만 val_accuracy는 일정한 수준으로 유지되는 것을 볼 수 있다."
      ],
      "metadata": {
        "id": "IR9YBjIQPGse"
      }
    },
    {
      "cell_type": "code",
      "source": [
        "history = model.fit(x_train,y_train,epochs=25,validation_split=0.25)"
      ],
      "metadata": {
        "colab": {
          "base_uri": "https://localhost:8080/"
        },
        "id": "nvFhOXinNkDp",
        "outputId": "f4babbba-84d8-4b7b-ded4-4be1e57f044f"
      },
      "execution_count": 83,
      "outputs": [
        {
          "output_type": "stream",
          "name": "stdout",
          "text": [
            "Epoch 1/25\n",
            "1407/1407 [==============================] - 4s 3ms/step - loss: 0.2051 - accuracy: 0.9229 - val_loss: 0.3264 - val_accuracy: 0.8919\n",
            "Epoch 2/25\n",
            "1407/1407 [==============================] - 5s 4ms/step - loss: 0.2000 - accuracy: 0.9254 - val_loss: 0.3279 - val_accuracy: 0.8920\n",
            "Epoch 3/25\n",
            "1407/1407 [==============================] - 6s 4ms/step - loss: 0.1930 - accuracy: 0.9272 - val_loss: 0.3304 - val_accuracy: 0.8916\n",
            "Epoch 4/25\n",
            "1407/1407 [==============================] - 7s 5ms/step - loss: 0.1866 - accuracy: 0.9308 - val_loss: 0.3473 - val_accuracy: 0.8867\n",
            "Epoch 5/25\n",
            "1407/1407 [==============================] - 8s 6ms/step - loss: 0.1820 - accuracy: 0.9324 - val_loss: 0.3367 - val_accuracy: 0.8913\n",
            "Epoch 6/25\n",
            "1407/1407 [==============================] - 7s 5ms/step - loss: 0.1764 - accuracy: 0.9344 - val_loss: 0.3403 - val_accuracy: 0.8877\n",
            "Epoch 7/25\n",
            "1407/1407 [==============================] - 4s 3ms/step - loss: 0.1707 - accuracy: 0.9361 - val_loss: 0.3346 - val_accuracy: 0.8939\n",
            "Epoch 8/25\n",
            "1407/1407 [==============================] - 4s 3ms/step - loss: 0.1678 - accuracy: 0.9371 - val_loss: 0.3573 - val_accuracy: 0.8898\n",
            "Epoch 9/25\n",
            "1407/1407 [==============================] - 4s 3ms/step - loss: 0.1617 - accuracy: 0.9394 - val_loss: 0.3452 - val_accuracy: 0.8917\n",
            "Epoch 10/25\n",
            "1407/1407 [==============================] - 4s 3ms/step - loss: 0.1592 - accuracy: 0.9407 - val_loss: 0.3783 - val_accuracy: 0.8887\n",
            "Epoch 11/25\n",
            "1407/1407 [==============================] - 4s 3ms/step - loss: 0.1538 - accuracy: 0.9424 - val_loss: 0.3571 - val_accuracy: 0.8895\n",
            "Epoch 12/25\n",
            "1407/1407 [==============================] - 4s 3ms/step - loss: 0.1503 - accuracy: 0.9444 - val_loss: 0.3952 - val_accuracy: 0.8825\n",
            "Epoch 13/25\n",
            "1407/1407 [==============================] - 4s 3ms/step - loss: 0.1480 - accuracy: 0.9443 - val_loss: 0.3809 - val_accuracy: 0.8892\n",
            "Epoch 14/25\n",
            "1407/1407 [==============================] - 4s 3ms/step - loss: 0.1421 - accuracy: 0.9463 - val_loss: 0.3728 - val_accuracy: 0.8919\n",
            "Epoch 15/25\n",
            "1407/1407 [==============================] - 4s 3ms/step - loss: 0.1386 - accuracy: 0.9482 - val_loss: 0.4124 - val_accuracy: 0.8827\n",
            "Epoch 16/25\n",
            "1407/1407 [==============================] - 4s 3ms/step - loss: 0.1370 - accuracy: 0.9482 - val_loss: 0.3859 - val_accuracy: 0.8901\n",
            "Epoch 17/25\n",
            "1407/1407 [==============================] - 4s 3ms/step - loss: 0.1325 - accuracy: 0.9501 - val_loss: 0.3863 - val_accuracy: 0.8856\n",
            "Epoch 18/25\n",
            "1407/1407 [==============================] - 4s 3ms/step - loss: 0.1306 - accuracy: 0.9515 - val_loss: 0.4094 - val_accuracy: 0.8844\n",
            "Epoch 19/25\n",
            "1407/1407 [==============================] - 4s 3ms/step - loss: 0.1264 - accuracy: 0.9528 - val_loss: 0.4388 - val_accuracy: 0.8817\n",
            "Epoch 20/25\n",
            "1407/1407 [==============================] - 4s 3ms/step - loss: 0.1268 - accuracy: 0.9526 - val_loss: 0.3803 - val_accuracy: 0.8961\n",
            "Epoch 21/25\n",
            "1407/1407 [==============================] - 5s 3ms/step - loss: 0.1220 - accuracy: 0.9546 - val_loss: 0.4198 - val_accuracy: 0.8903\n",
            "Epoch 22/25\n",
            "1407/1407 [==============================] - 4s 3ms/step - loss: 0.1184 - accuracy: 0.9560 - val_loss: 0.4322 - val_accuracy: 0.8883\n",
            "Epoch 23/25\n",
            "1407/1407 [==============================] - 4s 3ms/step - loss: 0.1168 - accuracy: 0.9562 - val_loss: 0.4005 - val_accuracy: 0.8921\n",
            "Epoch 24/25\n",
            "1407/1407 [==============================] - 4s 3ms/step - loss: 0.1111 - accuracy: 0.9580 - val_loss: 0.4070 - val_accuracy: 0.8907\n",
            "Epoch 25/25\n",
            "1407/1407 [==============================] - 4s 3ms/step - loss: 0.1119 - accuracy: 0.9577 - val_loss: 0.4305 - val_accuracy: 0.8922\n"
          ]
        }
      ]
    },
    {
      "cell_type": "markdown",
      "source": [
        "loss와 accuarcy의 변화를 시각화하여 보면 val_loss가 불안정하게 증가추세를 보이므로 과적합되고 있음을 보인다."
      ],
      "metadata": {
        "id": "d9tRP_btP-u7"
      }
    },
    {
      "cell_type": "code",
      "source": [
        "import matplotlib.pyplot as plt\n",
        "plt.figure(figsize=(12,4))\n",
        "\n",
        "plt.subplot(1,2,1)\n",
        "plt.plot(history.history['loss'],'b-',label='loss')\n",
        "plt.plot(history.history['val_loss'],'r--', label='val_loss')\n",
        "plt.xlabel('Epoch')\n",
        "plt.legend()\n",
        "\n",
        "plt.subplot(1,2,2)\n",
        "plt.plot(history.history['accuracy'],'g-',label='accuracy')\n",
        "plt.plot(history.history['val_accuracy'],'k--', label='val_accuracy')\n",
        "plt.xlabel('Epoch')\n",
        "plt.ylim(0.7,1)\n",
        "plt.legend()\n",
        "\n",
        "plt.show"
      ],
      "metadata": {
        "colab": {
          "base_uri": "https://localhost:8080/",
          "height": 301
        },
        "id": "z7zjC865P2-n",
        "outputId": "d1c79469-803f-4611-c564-3eeb9e37b384"
      },
      "execution_count": 84,
      "outputs": [
        {
          "output_type": "execute_result",
          "data": {
            "text/plain": [
              "<function matplotlib.pyplot.show>"
            ]
          },
          "metadata": {},
          "execution_count": 84
        },
        {
          "output_type": "display_data",
          "data": {
            "text/plain": [
              "<Figure size 864x288 with 2 Axes>"
            ],
            "image/png": "[encoded data removed]"
          },
          "metadata": {
            "needs_background": "light"
          }
        }
      ]
    },
    {
      "cell_type": "markdown",
      "source": [
        "evaluate 함수를 test 데이터를 인자로 하여 성능을 확인해보니 약 0.88의 정확도를 보였다."
      ],
      "metadata": {
        "id": "HPUKWJIaQ43P"
      }
    },
    {
      "cell_type": "code",
      "source": [
        "model.evaluate(x_test,y_test)"
      ],
      "metadata": {
        "colab": {
          "base_uri": "https://localhost:8080/"
        },
        "id": "qUBJoo4IRXSR",
        "outputId": "5065e5c5-9cc8-41b8-e405-e8737cd54e91"
      },
      "execution_count": 85,
      "outputs": [
        {
          "output_type": "stream",
          "name": "stdout",
          "text": [
            "313/313 [==============================] - 1s 2ms/step - loss: 0.4806 - accuracy: 0.8859\n"
          ]
        },
        {
          "output_type": "execute_result",
          "data": {
            "text/plain": [
              "[0.4806158244609833, 0.8859000205993652]"
            ]
          },
          "metadata": {},
          "execution_count": 85
        }
      ]
    },
    {
      "cell_type": "markdown",
      "source": [
        "앞선 4장에서 나왔던 콜백함수를 사용해 모델을 다시 학습해봤다. epochs 17에서 모델 학습이 종료되었다."
      ],
      "metadata": {
        "id": "MANvZebjQXpe"
      }
    },
    {
      "cell_type": "code",
      "source": [
        "import tensorflow as tf\n",
        "model = tf.keras.Sequential([\n",
        "  tf.keras.layers.Flatten(input_shape=(28,28)),\n",
        "  tf.keras.layers.Dense(units = 128,activation = 'relu'),\n",
        "  tf.keras.layers.Dense(units = 10, activation = 'softmax')\n",
        "])\n",
        "\n",
        "model.compile(optimizer = tf.keras.optimizers.Adam(),\n",
        "              loss='sparse_categorical_crossentropy',\n",
        "              metrics=['accuracy'])\n",
        "\n",
        "history = model.fit(x_train,y_train,epochs=25,validation_split=0.25,\n",
        "                     callbacks=[tf.keras.callbacks.EarlyStopping(patience=3, monitor='val_loss')])"
      ],
      "metadata": {
        "colab": {
          "base_uri": "https://localhost:8080/"
        },
        "id": "oTkORgKZPERX",
        "outputId": "b43d2cf9-9ac8-4dcf-b078-8e01dddb5469"
      },
      "execution_count": 86,
      "outputs": [
        {
          "output_type": "stream",
          "name": "stdout",
          "text": [
            "Epoch 1/25\n",
            "1407/1407 [==============================] - 5s 3ms/step - loss: 0.5278 - accuracy: 0.8147 - val_loss: 0.4719 - val_accuracy: 0.8308\n",
            "Epoch 2/25\n",
            "1407/1407 [==============================] - 6s 4ms/step - loss: 0.3908 - accuracy: 0.8604 - val_loss: 0.3830 - val_accuracy: 0.8599\n",
            "Epoch 3/25\n",
            "1407/1407 [==============================] - 6s 4ms/step - loss: 0.3515 - accuracy: 0.8716 - val_loss: 0.3665 - val_accuracy: 0.8685\n",
            "Epoch 4/25\n",
            "1407/1407 [==============================] - 4s 3ms/step - loss: 0.3237 - accuracy: 0.8802 - val_loss: 0.3357 - val_accuracy: 0.8771\n",
            "Epoch 5/25\n",
            "1407/1407 [==============================] - 4s 3ms/step - loss: 0.3020 - accuracy: 0.8898 - val_loss: 0.3356 - val_accuracy: 0.8779\n",
            "Epoch 6/25\n",
            "1407/1407 [==============================] - 4s 3ms/step - loss: 0.2874 - accuracy: 0.8950 - val_loss: 0.3295 - val_accuracy: 0.8808\n",
            "Epoch 7/25\n",
            "1407/1407 [==============================] - 4s 3ms/step - loss: 0.2746 - accuracy: 0.8981 - val_loss: 0.3380 - val_accuracy: 0.8804\n",
            "Epoch 8/25\n",
            "1407/1407 [==============================] - 4s 3ms/step - loss: 0.2604 - accuracy: 0.9033 - val_loss: 0.3305 - val_accuracy: 0.8822\n",
            "Epoch 9/25\n",
            "1407/1407 [==============================] - 4s 3ms/step - loss: 0.2498 - accuracy: 0.9069 - val_loss: 0.3288 - val_accuracy: 0.8833\n",
            "Epoch 10/25\n",
            "1407/1407 [==============================] - 4s 3ms/step - loss: 0.2406 - accuracy: 0.9106 - val_loss: 0.3416 - val_accuracy: 0.8780\n",
            "Epoch 11/25\n",
            "1407/1407 [==============================] - 4s 3ms/step - loss: 0.2333 - accuracy: 0.9132 - val_loss: 0.3223 - val_accuracy: 0.8877\n",
            "Epoch 12/25\n",
            "1407/1407 [==============================] - 4s 3ms/step - loss: 0.2241 - accuracy: 0.9150 - val_loss: 0.3342 - val_accuracy: 0.8837\n",
            "Epoch 13/25\n",
            "1407/1407 [==============================] - 4s 3ms/step - loss: 0.2176 - accuracy: 0.9189 - val_loss: 0.3407 - val_accuracy: 0.8825\n",
            "Epoch 14/25\n",
            "1407/1407 [==============================] - 5s 4ms/step - loss: 0.2099 - accuracy: 0.9227 - val_loss: 0.3217 - val_accuracy: 0.8889\n",
            "Epoch 15/25\n",
            "1407/1407 [==============================] - 4s 3ms/step - loss: 0.2035 - accuracy: 0.9244 - val_loss: 0.3410 - val_accuracy: 0.8867\n",
            "Epoch 16/25\n",
            "1407/1407 [==============================] - 4s 3ms/step - loss: 0.1965 - accuracy: 0.9265 - val_loss: 0.3558 - val_accuracy: 0.8807\n",
            "Epoch 17/25\n",
            "1407/1407 [==============================] - 4s 3ms/step - loss: 0.1902 - accuracy: 0.9281 - val_loss: 0.3459 - val_accuracy: 0.8849\n"
          ]
        }
      ]
    },
    {
      "cell_type": "markdown",
      "source": [
        "콜백 함수를 사용한 모델의 성능을 evaluate로 평가해봤는데 오히려 낮은 성능을 보였다. 다시 한번 느낀다. 운빨x망겜,,,,\n",
        "\n",
        "다음 장에서 이 운빨x망겜에 성능을 보장해주는 CNN에 대해 공부한다고 한다."
      ],
      "metadata": {
        "id": "EAWN1twKSaS9"
      }
    },
    {
      "cell_type": "code",
      "source": [
        "model.evaluate(x_test,y_test)"
      ],
      "metadata": {
        "colab": {
          "base_uri": "https://localhost:8080/"
        },
        "id": "Ca8ZeRK8QkTK",
        "outputId": "275633ef-857d-414a-e2d9-8d21fe00b0b9"
      },
      "execution_count": 87,
      "outputs": [
        {
          "output_type": "stream",
          "name": "stdout",
          "text": [
            "313/313 [==============================] - 1s 3ms/step - loss: 0.3672 - accuracy: 0.8780\n"
          ]
        },
        {
          "output_type": "execute_result",
          "data": {
            "text/plain": [
              "[0.36724311113357544, 0.878000020980835]"
            ]
          },
          "metadata": {},
          "execution_count": 87
        }
      ]
    },
    {
      "cell_type": "code",
      "source": [
        ""
      ],
      "metadata": {
        "id": "5kjNz1bmSZ7P"
      },
      "execution_count": null,
      "outputs": []
    }
  ]
}